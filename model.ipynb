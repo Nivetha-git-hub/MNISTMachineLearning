{
 "cells": [
  {
   "cell_type": "code",
   "execution_count": 13,
   "metadata": {},
   "outputs": [],
   "source": [
    "import tensorflow as tf\n",
    "from tensorflow.keras.models import Sequential\n",
    "from tensorflow.keras.layers import Dense,Dropout,Conv2D,MaxPooling2D,Flatten,BatchNormalization\n",
    "from tensorflow.keras.datasets import mnist\n",
    "\n",
    "import tensorflow.keras.backend as K"
   ]
  },
  {
   "cell_type": "code",
   "execution_count": 14,
   "metadata": {},
   "outputs": [],
   "source": [
    "(x_train,y_train),(x_test,y_test) = mnist.load_data()"
   ]
  },
  {
   "cell_type": "code",
   "execution_count": 15,
   "metadata": {},
   "outputs": [
    {
     "name": "stdout",
     "output_type": "stream",
     "text": [
      "Dimension of x_train (60000, 28, 28)\n",
      "Dimension of x_test (10000, 28, 28)\n",
      "Dimension of y_test (10000,)\n"
     ]
    }
   ],
   "source": [
    "print(\"Dimension of x_train\",x_train.shape)\n",
    "print(\"Dimension of x_test\",x_test.shape)\n",
    "print(\"Dimension of y_test\",y_test.shape)"
   ]
  },
  {
   "cell_type": "code",
   "execution_count": 16,
   "metadata": {},
   "outputs": [
    {
     "data": {
      "image/png": "[encoded data removed]",
      "text/plain": [
       "<Figure size 640x480 with 1 Axes>"
      ]
     },
     "metadata": {},
     "output_type": "display_data"
    },
    {
     "name": "stdout",
     "output_type": "stream",
     "text": [
      "9\n"
     ]
    }
   ],
   "source": [
    "import numpy as np\n",
    "import matplotlib.pyplot as plt\n",
    "\n",
    "plt.imshow(x_train[4])\n",
    "plt.show()\n",
    "print(y_train[4])"
   ]
  },
  {
   "cell_type": "code",
   "execution_count": 17,
   "metadata": {},
   "outputs": [],
   "source": [
    "num_classes = 10\n",
    "\n",
    "epochs = 30\n",
    "img_rows = 28 \n",
    "img_cols = 28\n"
   ]
  },
  {
   "cell_type": "code",
   "execution_count": 18,
   "metadata": {},
   "outputs": [],
   "source": [
    "x_train =x_train.astype(float)\n",
    "x_train =x_train/255\n",
    "x_test =x_test.astype(float)\n",
    "x_test =x_test/255\n",
    "\n",
    "from tensorflow.keras.utils import to_categorical\n",
    "y_train = to_categorical(y_train, num_classes = 10, dtype = 'float32')\n",
    "y_test = to_categorical(y_test, num_classes = 10, dtype = 'float32')"
   ]
  },
  {
   "cell_type": "code",
   "execution_count": 19,
   "metadata": {},
   "outputs": [],
   "source": [
    "if K.image_data_format() =='channels_first':\n",
    "    x_train = x_train.reshape(x_train.shape[0],1,img_rows,img_cols)\n",
    "    x_test = x_test.reshape(x_test.shape[0],1,img_rows,img_cols)\n",
    "    input_shape = (1,img_rows,img_cols)\n",
    "else:\n",
    "    x_train = x_train.reshape(x_train.shape[0],img_rows,img_cols,1)\n",
    "    x_test = x_test.reshape(x_test.shape[0],img_rows,img_cols,1)\n",
    "    input_shape = (img_rows,img_cols,1)"
   ]
  },
  {
   "cell_type": "code",
   "execution_count": 20,
   "metadata": {},
   "outputs": [],
   "source": [
    "model = Sequential()\n",
    "model.add(Conv2D(32, kernel_size = 3, activation='relu', input_shape = input_shape))\n",
    "model.add(MaxPooling2D())\n",
    "model.add(Conv2D(32, kernel_size = 3, activation='relu'))\n",
    "model.add(BatchNormalization())\n",
    "model.add(Conv2D(32, kernel_size = 5, strides=2, padding='same', activation='relu'))\n",
    "model.add(BatchNormalization())\n",
    "model.add(Dropout(0.4))\n",
    "model.add(Conv2D(64, kernel_size = 3, activation='relu'))\n",
    "model.add(BatchNormalization())\n",
    "model.add(Conv2D(64, kernel_size = 3, activation='relu'))\n",
    "model.add(BatchNormalization())\n",
    "model.add(Conv2D(64, kernel_size = 5, strides=2, padding='same', activation='relu'))\n",
    "model.add(BatchNormalization())\n",
    "model.add(Dropout(0.4))\n",
    "model.add(Flatten())\n",
    "model.add(Dropout(0.4))\n",
    "model.add(Dense(10, activation='softmax'))"
   ]
  },
  {
   "cell_type": "code",
   "execution_count": 21,
   "metadata": {},
   "outputs": [],
   "source": [
    "model.compile(loss='categorical_crossentropy', optimizer='adam', metrics=['accuracy'])"
   ]
  },
  {
   "cell_type": "code",
   "execution_count": 22,
   "metadata": {},
   "outputs": [
    {
     "name": "stdout",
     "output_type": "stream",
     "text": [
      "Model: \"sequential_1\"\n",
      "_________________________________________________________________\n",
      " Layer (type)                Output Shape              Param #   \n",
      "=================================================================\n",
      " conv2d_6 (Conv2D)           (None, 26, 26, 32)        320       \n",
      "                                                                 \n",
      " max_pooling2d_1 (MaxPooling  (None, 13, 13, 32)       0         \n",
      " 2D)                                                             \n",
      "                                                                 \n",
      " conv2d_7 (Conv2D)           (None, 11, 11, 32)        9248      \n",
      "                                                                 \n",
      " batch_normalization_5 (Batc  (None, 11, 11, 32)       128       \n",
      " hNormalization)                                                 \n",
      "                                                                 \n",
      " conv2d_8 (Conv2D)           (None, 6, 6, 32)          25632     \n",
      "                                                                 \n",
      " batch_normalization_6 (Batc  (None, 6, 6, 32)         128       \n",
      " hNormalization)                                                 \n",
      "                                                                 \n",
      " dropout_3 (Dropout)         (None, 6, 6, 32)          0         \n",
      "                                                                 \n",
      " conv2d_9 (Conv2D)           (None, 4, 4, 64)          18496     \n",
      "                                                                 \n",
      " batch_normalization_7 (Batc  (None, 4, 4, 64)         256       \n",
      " hNormalization)                                                 \n",
      "                                                                 \n",
      " conv2d_10 (Conv2D)          (None, 2, 2, 64)          36928     \n",
      "                                                                 \n",
      " batch_normalization_8 (Batc  (None, 2, 2, 64)         256       \n",
      " hNormalization)                                                 \n",
      "                                                                 \n",
      " conv2d_11 (Conv2D)          (None, 1, 1, 64)          102464    \n",
      "                                                                 \n",
      " batch_normalization_9 (Batc  (None, 1, 1, 64)         256       \n",
      " hNormalization)                                                 \n",
      "                                                                 \n",
      " dropout_4 (Dropout)         (None, 1, 1, 64)          0         \n",
      "                                                                 \n",
      " flatten_1 (Flatten)         (None, 64)                0         \n",
      "                                                                 \n",
      " dropout_5 (Dropout)         (None, 64)                0         \n",
      "                                                                 \n",
      " dense_1 (Dense)             (None, 10)                650       \n",
      "                                                                 \n",
      "=================================================================\n",
      "Total params: 194,762\n",
      "Trainable params: 194,250\n",
      "Non-trainable params: 512\n",
      "_________________________________________________________________\n"
     ]
    }
   ],
   "source": []
  },
  {
   "cell_type": "code",
   "execution_count": 23,
   "metadata": {},
   "outputs": [
    {
     "name": "stdout",
     "output_type": "stream",
     "text": [
      "Epoch 1/30\n",
      "2000/2000 [==============================] - 48s 24ms/step - loss: 0.3084 - accuracy: 0.9110 - val_loss: 0.0741 - val_accuracy: 0.9773\n",
      "Epoch 2/30\n",
      "2000/2000 [==============================] - 47s 23ms/step - loss: 0.1059 - accuracy: 0.9718 - val_loss: 0.0440 - val_accuracy: 0.9854\n",
      "Epoch 3/30\n",
      "2000/2000 [==============================] - 47s 23ms/step - loss: 0.0793 - accuracy: 0.9786 - val_loss: 0.0370 - val_accuracy: 0.9883\n",
      "Epoch 4/30\n",
      "2000/2000 [==============================] - 44s 22ms/step - loss: 0.0679 - accuracy: 0.9819 - val_loss: 0.0328 - val_accuracy: 0.9905\n",
      "Epoch 5/30\n",
      "2000/2000 [==============================] - 47s 23ms/step - loss: 0.0607 - accuracy: 0.9841 - val_loss: 0.0297 - val_accuracy: 0.9919\n",
      "Epoch 6/30\n",
      "2000/2000 [==============================] - 46s 23ms/step - loss: 0.0524 - accuracy: 0.9857 - val_loss: 0.0308 - val_accuracy: 0.9906\n",
      "Epoch 7/30\n",
      "2000/2000 [==============================] - 46s 23ms/step - loss: 0.0462 - accuracy: 0.9872 - val_loss: 0.0261 - val_accuracy: 0.9925\n",
      "Epoch 8/30\n",
      "2000/2000 [==============================] - 49s 24ms/step - loss: 0.0414 - accuracy: 0.9891 - val_loss: 0.0312 - val_accuracy: 0.9903\n",
      "Epoch 9/30\n",
      "2000/2000 [==============================] - 48s 24ms/step - loss: 0.0374 - accuracy: 0.9900 - val_loss: 0.0239 - val_accuracy: 0.9923\n",
      "Epoch 10/30\n",
      "2000/2000 [==============================] - 47s 23ms/step - loss: 0.0376 - accuracy: 0.9901 - val_loss: 0.0263 - val_accuracy: 0.9918\n",
      "Epoch 11/30\n",
      "2000/2000 [==============================] - 50s 25ms/step - loss: 0.0337 - accuracy: 0.9913 - val_loss: 0.0232 - val_accuracy: 0.9934\n",
      "Epoch 12/30\n",
      "2000/2000 [==============================] - 52s 26ms/step - loss: 0.0320 - accuracy: 0.9912 - val_loss: 0.0214 - val_accuracy: 0.9935\n",
      "Epoch 13/30\n",
      "2000/2000 [==============================] - 48s 24ms/step - loss: 0.0297 - accuracy: 0.9920 - val_loss: 0.0284 - val_accuracy: 0.9923\n",
      "Epoch 14/30\n",
      "2000/2000 [==============================] - 51s 25ms/step - loss: 0.0269 - accuracy: 0.9929 - val_loss: 0.0306 - val_accuracy: 0.9916\n",
      "Epoch 15/30\n",
      "2000/2000 [==============================] - 64s 32ms/step - loss: 0.0280 - accuracy: 0.9926 - val_loss: 0.0203 - val_accuracy: 0.9940\n",
      "Epoch 16/30\n",
      "2000/2000 [==============================] - 54s 27ms/step - loss: 0.0263 - accuracy: 0.9931 - val_loss: 0.0290 - val_accuracy: 0.9926\n",
      "Epoch 17/30\n",
      "2000/2000 [==============================] - 47s 24ms/step - loss: 0.0231 - accuracy: 0.9938 - val_loss: 0.0282 - val_accuracy: 0.9927\n",
      "Epoch 18/30\n",
      "2000/2000 [==============================] - 47s 24ms/step - loss: 0.0229 - accuracy: 0.9939 - val_loss: 0.0217 - val_accuracy: 0.9940\n",
      "Epoch 19/30\n",
      "2000/2000 [==============================] - 46s 23ms/step - loss: 0.0219 - accuracy: 0.9941 - val_loss: 0.0207 - val_accuracy: 0.9950\n",
      "Epoch 20/30\n",
      "2000/2000 [==============================] - 48s 24ms/step - loss: 0.0198 - accuracy: 0.9943 - val_loss: 0.0237 - val_accuracy: 0.9947\n",
      "Epoch 21/30\n",
      "2000/2000 [==============================] - 47s 23ms/step - loss: 0.0195 - accuracy: 0.9947 - val_loss: 0.0267 - val_accuracy: 0.9939\n",
      "Epoch 22/30\n",
      "2000/2000 [==============================] - 47s 23ms/step - loss: 0.0191 - accuracy: 0.9949 - val_loss: 0.0233 - val_accuracy: 0.9946\n",
      "Epoch 23/30\n",
      "2000/2000 [==============================] - 47s 23ms/step - loss: 0.0176 - accuracy: 0.9952 - val_loss: 0.0384 - val_accuracy: 0.9917\n",
      "Epoch 24/30\n",
      "2000/2000 [==============================] - 48s 24ms/step - loss: 0.0168 - accuracy: 0.9950 - val_loss: 0.0262 - val_accuracy: 0.9938\n",
      "Epoch 25/30\n",
      "2000/2000 [==============================] - 48s 24ms/step - loss: 0.0184 - accuracy: 0.9952 - val_loss: 0.0206 - val_accuracy: 0.9949\n",
      "Epoch 26/30\n",
      "2000/2000 [==============================] - 48s 24ms/step - loss: 0.0154 - accuracy: 0.9959 - val_loss: 0.0263 - val_accuracy: 0.9944\n",
      "Epoch 27/30\n",
      "2000/2000 [==============================] - 48s 24ms/step - loss: 0.0163 - accuracy: 0.9954 - val_loss: 0.0225 - val_accuracy: 0.9956\n",
      "Epoch 28/30\n",
      "2000/2000 [==============================] - 48s 24ms/step - loss: 0.0151 - accuracy: 0.9958 - val_loss: 0.0291 - val_accuracy: 0.9929\n",
      "Epoch 29/30\n",
      "2000/2000 [==============================] - 48s 24ms/step - loss: 0.0181 - accuracy: 0.9950 - val_loss: 0.0216 - val_accuracy: 0.9947\n",
      "Epoch 30/30\n",
      "2000/2000 [==============================] - 49s 25ms/step - loss: 0.0166 - accuracy: 0.9955 - val_loss: 0.0189 - val_accuracy: 0.9957\n"
     ]
    },
    {
     "data": {
      "text/plain": [
       "<keras.callbacks.History at 0x1fa710c6e60>"
      ]
     },
     "execution_count": 23,
     "metadata": {},
     "output_type": "execute_result"
    }
   ],
   "source": [
    "model.fit(x_train,y_train,batch_size=30,epochs=epochs,validation_data=(x_test,y_test))"
   ]
  },
  {
   "cell_type": "code",
   "execution_count": 24,
   "metadata": {},
   "outputs": [
    {
     "name": "stdout",
     "output_type": "stream",
     "text": [
      "313/313 [==============================] - 2s 6ms/step - loss: 0.0189 - accuracy: 0.9957\n",
      "Score is : 0.01886928640305996\n",
      "Accuracy : 0.9957000017166138\n"
     ]
    }
   ],
   "source": [
    "score ,acc = model.evaluate(x_test,y_test)\n",
    "print(\"Score is :\",score)\n",
    "print(\"Accuracy :\",acc)"
   ]
  },
  {
   "cell_type": "code",
   "execution_count": 25,
   "metadata": {},
   "outputs": [],
   "source": [
    "model_json = model.to_json()\n",
    "with open(\"model.json\",\"w\") as json_file:\n",
    "    json_file.write(model_json)\n",
    "model.save_weights(\"models.h5\")"
   ]
  },
  {
   "cell_type": "code",
   "execution_count": 26,
   "metadata": {},
   "outputs": [],
   "source": [
    "import tensorflowjs as tfjs\n",
    "tfjs.converters.save_keras_model(model,'/home/ubuntu/love/keras')"
   ]
  }
 ],
 "metadata": {
  "kernelspec": {
   "display_name": ".venv",
   "language": "python",
   "name": "python3"
  },
  "language_info": {
   "codemirror_mode": {
    "name": "ipython",
    "version": 3
   },
   "file_extension": ".py",
   "mimetype": "text/x-python",
   "name": "python",
   "nbconvert_exporter": "python",
   "pygments_lexer": "ipython3",
   "version": "3.10.10"
  },
  "orig_nbformat": 4,
  "vscode": {
   "interpreter": {
    "hash": "9ee6c68b4ca85f9488581e78d7500563f55184c2f5a398ff79109c53bfac29b7"
   }
  }
 },
 "nbformat": 4,
 "nbformat_minor": 2
}
